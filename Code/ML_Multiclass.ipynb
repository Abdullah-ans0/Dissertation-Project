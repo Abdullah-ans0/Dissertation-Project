{
 "cells": [
  {
   "cell_type": "markdown",
   "id": "b115de5b",
   "metadata": {},
   "source": [
    "# Importing all the necessary libraries"
   ]
  },
  {
   "cell_type": "code",
   "execution_count": 1,
   "id": "9d98dee0",
   "metadata": {},
   "outputs": [
    {
     "name": "stderr",
     "output_type": "stream",
     "text": [
      "C:\\Anaconda3\\Lib\\site-packages\\paramiko\\transport.py:219: CryptographyDeprecationWarning: Blowfish has been deprecated\n",
      "  \"class\": algorithms.Blowfish,\n"
     ]
    }
   ],
   "source": [
    "import cv2\n",
    "import os\n",
    "import numpy as np\n",
    "from skimage.color import rgb2gray\n",
    "from skimage.feature import hog\n",
    "from sklearn.model_selection import train_test_split\n",
    "from sklearn.preprocessing import StandardScaler\n",
    "from sklearn.svm import SVC\n",
    "from sklearn.neighbors import KNeighborsClassifier\n",
    "from sklearn.ensemble import RandomForestClassifier\n",
    "from sklearn.pipeline import Pipeline\n",
    "from sklearn.metrics import classification_report, accuracy_score\n",
    "import joblib2221"
   ]
  },
  {
   "cell_type": "markdown",
   "id": "8fc4b086",
   "metadata": {},
   "source": [
    "# Loading the Dataset"
   ]
  },
  {
   "cell_type": "code",
   "execution_count": 2,
   "id": "a8fa333b-ef99-4ccd-a9f7-f63b051d6c7b",
   "metadata": {},
   "outputs": [],
   "source": [
    "def load_images_from_folder(folder):\n",
    "    images = []\n",
    "    labels = []\n",
    "    for class_label, class_folder in enumerate(os.listdir(folder)):\n",
    "        class_path = os.path.join(folder, class_folder)\n",
    "        for filename in os.listdir(class_path):\n",
    "            img = cv2.imread(os.path.join(class_path, filename))\n",
    "            if img is not None:\n",
    "                img = cv2.resize(img, (224, 224))\n",
    "                images.append(img)\n",
    "                labels.append(class_label)\n",
    "    return np.array(images), np.array(labels)\n",
    "\n",
    "data_folder = 'Multiclass_Data'\n",
    "images, labels = load_images_from_folder(data_folder)\n",
    "images = images / 255.0 "
   ]
  },
  {
   "cell_type": "markdown",
   "id": "4224f3b7",
   "metadata": {},
   "source": [
    "# Feature Extraction"
   ]
  },
  {
   "cell_type": "code",
   "execution_count": 3,
   "id": "04b720fc-840e-4ca7-84cb-90f607883165",
   "metadata": {},
   "outputs": [],
   "source": [
    "def extract_hog_features(images):\n",
    "    hog_features = []\n",
    "    for image in images:\n",
    "        gray_image = rgb2gray(image)\n",
    "        feature = hog(gray_image, pixels_per_cell=(8, 8), cells_per_block=(2, 2))\n",
    "        hog_features.append(feature)\n",
    "    return np.array(hog_features)\n",
    "\n",
    "hog_features = extract_hog_features(images)"
   ]
  },
  {
   "cell_type": "markdown",
   "id": "cbaa0298",
   "metadata": {},
   "source": [
    "# Data Splitting"
   ]
  },
  {
   "cell_type": "code",
   "execution_count": 4,
   "id": "a89373db-444f-4aad-8548-3910f469f33c",
   "metadata": {},
   "outputs": [],
   "source": [
    "# Splitting the data into training and test sets\n",
    "X_train, X_test, y_train, y_test = train_test_split(hog_features, labels, test_size=0.2, random_state=1, stratify=labels)"
   ]
  },
  {
   "cell_type": "markdown",
   "id": "1cc0176e",
   "metadata": {},
   "source": [
    "# Creating pipelines"
   ]
  },
  {
   "cell_type": "code",
   "execution_count": 5,
   "id": "5a2ff6d3",
   "metadata": {},
   "outputs": [],
   "source": [
    "# SVM Pipeline\n",
    "svm_pipeline = Pipeline([\n",
    "    ('scaler', StandardScaler()),  \n",
    "    ('svm', SVC()) \n",
    "])\n",
    "\n",
    "# KNN Pipeline\n",
    "knn_pipeline = Pipeline([\n",
    "    ('scaler', StandardScaler()), \n",
    "    ('knn', KNeighborsClassifier())  \n",
    "])\n",
    "\n",
    "# Random Forest Pipeline\n",
    "rf_pipeline = Pipeline([\n",
    "    ('scaler', StandardScaler()),\n",
    "    ('rf', RandomForestClassifier())\n",
    "])"
   ]
  },
  {
   "cell_type": "markdown",
   "id": "56b32740",
   "metadata": {},
   "source": [
    "# Training and evaluating the models"
   ]
  },
  {
   "cell_type": "code",
   "execution_count": 6,
   "id": "df9c5c8d",
   "metadata": {},
   "outputs": [
    {
     "name": "stdout",
     "output_type": "stream",
     "text": [
      "Training SVM model...\n",
      "SVM Model Accuracy: 64.97%\n",
      "Classification Report for SVM:\n",
      "              precision    recall  f1-score   support\n",
      "\n",
      "           0       0.53      0.71      0.60       220\n",
      "           1       0.59      0.64      0.61       228\n",
      "           2       0.75      0.78      0.76       227\n",
      "           3       0.68      0.46      0.55       217\n",
      "           4       0.76      0.59      0.67       214\n",
      "           5       0.52      0.71      0.60       224\n",
      "           6       0.89      0.69      0.78       221\n",
      "           7       0.67      0.61      0.63       219\n",
      "\n",
      "    accuracy                           0.65      1770\n",
      "   macro avg       0.67      0.65      0.65      1770\n",
      "weighted avg       0.67      0.65      0.65      1770\n",
      "\n",
      "\n",
      "Training KNN model...\n",
      "KNN Model Accuracy: 31.64%\n",
      "Classification Report for KNN:\n",
      "              precision    recall  f1-score   support\n",
      "\n",
      "           0       1.00      0.15      0.26       220\n",
      "           1       0.36      0.02      0.03       228\n",
      "           2       0.51      0.22      0.31       227\n",
      "           3       0.75      0.28      0.40       217\n",
      "           4       0.56      0.20      0.30       214\n",
      "           5       0.37      0.07      0.11       224\n",
      "           6       0.74      0.68      0.71       221\n",
      "           7       0.17      0.93      0.28       219\n",
      "\n",
      "    accuracy                           0.32      1770\n",
      "   macro avg       0.56      0.32      0.30      1770\n",
      "weighted avg       0.56      0.32      0.30      1770\n",
      "\n",
      "\n",
      "Training Random Forest model...\n",
      "Random Forest Model Accuracy: 55.42%\n",
      "Classification Report for Random Forest:\n",
      "              precision    recall  f1-score   support\n",
      "\n",
      "           0       0.51      0.58      0.54       220\n",
      "           1       0.45      0.57      0.50       228\n",
      "           2       0.61      0.77      0.68       227\n",
      "           3       0.57      0.41      0.48       217\n",
      "           4       0.59      0.52      0.55       214\n",
      "           5       0.42      0.47      0.44       224\n",
      "           6       0.88      0.59      0.71       221\n",
      "           7       0.58      0.51      0.54       219\n",
      "\n",
      "    accuracy                           0.55      1770\n",
      "   macro avg       0.58      0.55      0.56      1770\n",
      "weighted avg       0.57      0.55      0.56      1770\n",
      "\n",
      "\n"
     ]
    }
   ],
   "source": [
    "# Training and evaluating each model\n",
    "pipelines = [svm_pipeline, knn_pipeline, rf_pipeline]\n",
    "pipeline_names = ['SVM', 'KNN', 'Random Forest']\n",
    "for name, pipeline in zip(pipeline_names, pipelines):\n",
    "    print(f\"Training {name} model...\")\n",
    "    pipeline.fit(X_train, y_train)  \n",
    "    y_pred = pipeline.predict(X_test) \n",
    "    accuracy = accuracy_score(y_test, y_pred) \n",
    "    print(f\"{name} Model Accuracy: {accuracy * 100:.2f}%\")\n",
    "    print(f\"Classification Report for {name}:\\n{classification_report(y_test, y_pred)}\\n\")"
   ]
  },
  {
   "cell_type": "markdown",
   "id": "ba8302f8",
   "metadata": {},
   "source": [
    "# Saving the models"
   ]
  },
  {
   "cell_type": "code",
   "execution_count": 8,
   "id": "1dfb41da",
   "metadata": {},
   "outputs": [
    {
     "name": "stdout",
     "output_type": "stream",
     "text": [
      "SVM model saved as SVM_multiclass.pkl\n",
      "KNN model saved as KNN_multiclass.pkl\n",
      "Random Forest model saved as Random Forest_multiclass.pkl\n"
     ]
    }
   ],
   "source": [
    "# Saving each trained pipeline to a file\n",
    "for name, pipeline in zip(pipeline_names, pipelines):\n",
    "    filename = f\"{name}_multiclass.pkl\" \n",
    "    joblib.dump(pipeline, filename)  \n",
    "    print(f\"{name} model saved as {filename}\")\n",
    "    "
   ]
  },
  {
   "cell_type": "code",
   "execution_count": null,
   "id": "d6838c04",
   "metadata": {},
   "outputs": [],
   "source": []
  }
 ],
 "metadata": {
  "kernelspec": {
   "display_name": "Python 3 (ipykernel)",
   "language": "python",
   "name": "python3"
  },
  "language_info": {
   "codemirror_mode": {
    "name": "ipython",
    "version": 3
   },
   "file_extension": ".py",
   "mimetype": "text/x-python",
   "name": "python",
   "nbconvert_exporter": "python",
   "pygments_lexer": "ipython3",
   "version": "3.9.6"
  }
 },
 "nbformat": 4,
 "nbformat_minor": 5
}
